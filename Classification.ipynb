{
  "nbformat": 4,
  "nbformat_minor": 0,
  "metadata": {
    "colab": {
      "name": "Classification.ipynb",
      "provenance": [],
      "collapsed_sections": []
    },
    "kernelspec": {
      "name": "python3",
      "display_name": "Python 3"
    },
    "language_info": {
      "name": "python"
    },
    "accelerator": "GPU"
  },
  "cells": [
    {
      "cell_type": "code",
      "metadata": {
        "id": "1Dwr4SpuDZzj"
      },
      "source": [
        "# Import pandas library to read the dataset\n",
        "import pandas as pd\n",
        "# Import load_iris function from sklearn library in .datasets packages\n",
        "from sklearn.datasets import load_iris\n",
        "\n",
        "# Read Iris.csv file to 'iris' variable with read_csv() function\n",
        "iris = pd.read_csv('Iris.csv')\n",
        "\n",
        "# View information from the dataset on the first five rows with head() function\n",
        "iris.head()"
      ],
      "execution_count": null,
      "outputs": []
    },
    {
      "cell_type": "code",
      "metadata": {
        "id": "0hct5OlOHcz_"
      },
      "source": [
        "# Split the attribute and label from the dataset\n",
        "iris.drop('Id', axis=1, inplace=True)\n",
        "\n",
        "# X variable as a flowers size (attribute)\n",
        "X = iris[['SepalLengthCm', 'SepalWidthCm', \n",
        "          'PetalLengthCm', 'PetalWidthCm']]\n",
        "# Y variable as a label from the flowers\n",
        "Y = iris['Species']"
      ],
      "execution_count": 3,
      "outputs": []
    },
    {
      "cell_type": "code",
      "metadata": {
        "id": "Eyf2VBAkIpjM"
      },
      "source": [
        "# Import DecisionTreeClassifier function from sklearn library in .tree packages\n",
        "from sklearn.tree import DecisionTreeClassifier\n",
        "\n",
        "# Create a Decision Tree model\n",
        "tree_model = DecisionTreeClassifier()\n",
        "\n",
        "# Model training\n",
        "tree_model.fit(X, Y)"
      ],
      "execution_count": null,
      "outputs": []
    },
    {
      "cell_type": "code",
      "metadata": {
        "id": "zD7PDHALI8T0"
      },
      "source": [
        "# User input\n",
        "sepal_length = float(input('Sepal Length: '))\n",
        "sepal_width = float(input('Sepal Width: '))\n",
        "petal_length = float(input('Petal Length: '))\n",
        "petal_width = float(input('Petal Width: '))\n",
        "\n",
        "# Model prediction using the tree_model.predict([]) into the flowers variable\n",
        "flowers = tree_model.predict([[sepal_length, sepal_width, \n",
        "                               petal_length, petal_width]])\n",
        "\n",
        "# Prediction output using the conditional statements\n",
        "if flowers == 'Iris-versicolor':\n",
        "  print('This is Iris Versicolor Flower')\n",
        "elif flowers == 'Iris-setosa':\n",
        "  print('This is Iris Setosa Flower')\n",
        "else:\n",
        "  print('This is Iris Virginica Flower')"
      ],
      "execution_count": null,
      "outputs": []
    }
  ]
}